{
 "cells": [
  {
   "cell_type": "markdown",
   "id": "3be77701",
   "metadata": {},
   "source": [
    "## Viswanath allam \n",
    "### Task 6,\n",
    "#### Data Science and Business Analytics Intern, Sparks Foundation."
   ]
  },
  {
   "cell_type": "markdown",
   "id": "06defc04",
   "metadata": {},
   "source": [
    "### Iris Species Prediction using Decision Tree Algorithm\n",
    "> In this project our objective is to classify and predict the species type of different type of Iris Flowers given with DataSet (link for dataset:'https://bit.ly/3kXTdox')\n",
    "\n",
    "Let us start with the estimated steps to be followed as:\n",
    "1. Installation of libraries and importing the modules(for installion we can use: \"!pip install library_name\" command to be used in jupyter)\n",
    "2. Data Aquisition\n",
    "3. Data Cleansing and processing\n",
    "4. Exploratory Data Analysis\n",
    "5. Creating an ML model\n",
    "6. Implementation of the model\n",
    "7. Acuuracy measurement\n",
    "8. plotting the decision tree."
   ]
  },
  {
   "cell_type": "markdown",
   "id": "7fb121bb",
   "metadata": {},
   "source": [
    "#### Decision Tree Classifier:\n",
    ">A decision tree is a flowchart-like tree structure in which the internal node represents feature(or attribute), the branch represents a decision rule, and each leaf node represents the outcome. A Decision Tree consists of,\n",
    "\n",
    " 1. Nodes: Test for the value of a certain attribute.\n",
    " 2. Edges/Branch: Represents a decision rule and connect to the next node. \n",
    " 3. Leaf nodes: Terminal nodes that represent class labels or class distribution."
   ]
  },
  {
   "cell_type": "code",
   "execution_count": 1,
   "id": "5709040a",
   "metadata": {},
   "outputs": [],
   "source": [
    "#getting started with importing the modules and setting matplotlib parameters.\n",
    "import numpy as np\n",
    "import pandas as pd\n",
    "import seaborn as sns\n",
    "import matplotlib.pyplot as plt\n",
    "import matplotlib\n",
    "import sklearn.datasets as datasets\n",
    "import warnings\n",
    "\n",
    "warnings.filterwarnings(\"ignore\")\n",
    "\n",
    "matplotlib.rcParams['font.size'] = 15\n",
    "matplotlib.rcParams['figure.figsize'] = (15, 6)"
   ]
  },
  {
   "cell_type": "code",
   "execution_count": 2,
   "id": "bb0fc658",
   "metadata": {},
   "outputs": [],
   "source": [
    " # Data Aquisition\n",
    "    \n",
    "iris_raw=datasets.load_iris()            ##raw data from datasets in sklearn library. \n",
    "iris_df=pd.read_csv('Iris.csv')          ##data provided in the link."
   ]
  },
  {
   "cell_type": "markdown",
   "id": "ac76fcad",
   "metadata": {},
   "source": [
    "### Data Cleansing and processing as required for the ML model"
   ]
  },
  {
   "cell_type": "code",
   "execution_count": 3,
   "id": "25c42cf0",
   "metadata": {},
   "outputs": [],
   "source": [
    "### Transformation of species column using target data from iria_raw.\n",
    "\n",
    "iris_df['Species']=iris_raw.target"
   ]
  },
  {
   "cell_type": "code",
   "execution_count": 4,
   "id": "47d8323a",
   "metadata": {},
   "outputs": [
    {
     "data": {
      "text/html": [
       "<div>\n",
       "<style scoped>\n",
       "    .dataframe tbody tr th:only-of-type {\n",
       "        vertical-align: middle;\n",
       "    }\n",
       "\n",
       "    .dataframe tbody tr th {\n",
       "        vertical-align: top;\n",
       "    }\n",
       "\n",
       "    .dataframe thead th {\n",
       "        text-align: right;\n",
       "    }\n",
       "</style>\n",
       "<table border=\"1\" class=\"dataframe\">\n",
       "  <thead>\n",
       "    <tr style=\"text-align: right;\">\n",
       "      <th></th>\n",
       "      <th>Id</th>\n",
       "      <th>SepalLengthCm</th>\n",
       "      <th>SepalWidthCm</th>\n",
       "      <th>PetalLengthCm</th>\n",
       "      <th>PetalWidthCm</th>\n",
       "      <th>Species</th>\n",
       "    </tr>\n",
       "  </thead>\n",
       "  <tbody>\n",
       "    <tr>\n",
       "      <th>count</th>\n",
       "      <td>150.000000</td>\n",
       "      <td>150.000000</td>\n",
       "      <td>150.000000</td>\n",
       "      <td>150.000000</td>\n",
       "      <td>150.000000</td>\n",
       "      <td>150.000000</td>\n",
       "    </tr>\n",
       "    <tr>\n",
       "      <th>mean</th>\n",
       "      <td>75.500000</td>\n",
       "      <td>5.843333</td>\n",
       "      <td>3.054000</td>\n",
       "      <td>3.758667</td>\n",
       "      <td>1.198667</td>\n",
       "      <td>1.000000</td>\n",
       "    </tr>\n",
       "    <tr>\n",
       "      <th>std</th>\n",
       "      <td>43.445368</td>\n",
       "      <td>0.828066</td>\n",
       "      <td>0.433594</td>\n",
       "      <td>1.764420</td>\n",
       "      <td>0.763161</td>\n",
       "      <td>0.819232</td>\n",
       "    </tr>\n",
       "    <tr>\n",
       "      <th>min</th>\n",
       "      <td>1.000000</td>\n",
       "      <td>4.300000</td>\n",
       "      <td>2.000000</td>\n",
       "      <td>1.000000</td>\n",
       "      <td>0.100000</td>\n",
       "      <td>0.000000</td>\n",
       "    </tr>\n",
       "    <tr>\n",
       "      <th>25%</th>\n",
       "      <td>38.250000</td>\n",
       "      <td>5.100000</td>\n",
       "      <td>2.800000</td>\n",
       "      <td>1.600000</td>\n",
       "      <td>0.300000</td>\n",
       "      <td>0.000000</td>\n",
       "    </tr>\n",
       "    <tr>\n",
       "      <th>50%</th>\n",
       "      <td>75.500000</td>\n",
       "      <td>5.800000</td>\n",
       "      <td>3.000000</td>\n",
       "      <td>4.350000</td>\n",
       "      <td>1.300000</td>\n",
       "      <td>1.000000</td>\n",
       "    </tr>\n",
       "    <tr>\n",
       "      <th>75%</th>\n",
       "      <td>112.750000</td>\n",
       "      <td>6.400000</td>\n",
       "      <td>3.300000</td>\n",
       "      <td>5.100000</td>\n",
       "      <td>1.800000</td>\n",
       "      <td>2.000000</td>\n",
       "    </tr>\n",
       "    <tr>\n",
       "      <th>max</th>\n",
       "      <td>150.000000</td>\n",
       "      <td>7.900000</td>\n",
       "      <td>4.400000</td>\n",
       "      <td>6.900000</td>\n",
       "      <td>2.500000</td>\n",
       "      <td>2.000000</td>\n",
       "    </tr>\n",
       "  </tbody>\n",
       "</table>\n",
       "</div>"
      ],
      "text/plain": [
       "               Id  SepalLengthCm  SepalWidthCm  PetalLengthCm  PetalWidthCm  \\\n",
       "count  150.000000     150.000000    150.000000     150.000000    150.000000   \n",
       "mean    75.500000       5.843333      3.054000       3.758667      1.198667   \n",
       "std     43.445368       0.828066      0.433594       1.764420      0.763161   \n",
       "min      1.000000       4.300000      2.000000       1.000000      0.100000   \n",
       "25%     38.250000       5.100000      2.800000       1.600000      0.300000   \n",
       "50%     75.500000       5.800000      3.000000       4.350000      1.300000   \n",
       "75%    112.750000       6.400000      3.300000       5.100000      1.800000   \n",
       "max    150.000000       7.900000      4.400000       6.900000      2.500000   \n",
       "\n",
       "          Species  \n",
       "count  150.000000  \n",
       "mean     1.000000  \n",
       "std      0.819232  \n",
       "min      0.000000  \n",
       "25%      0.000000  \n",
       "50%      1.000000  \n",
       "75%      2.000000  \n",
       "max      2.000000  "
      ]
     },
     "execution_count": 4,
     "metadata": {},
     "output_type": "execute_result"
    }
   ],
   "source": [
    "iris_df.describe()            ### getting statistical info of numerical data."
   ]
  },
  {
   "cell_type": "code",
   "execution_count": 5,
   "id": "81442645",
   "metadata": {},
   "outputs": [],
   "source": [
    "iris_df.drop(['Id'],axis=1,inplace=True)"
   ]
  },
  {
   "cell_type": "code",
   "execution_count": 6,
   "id": "27bc1ad8",
   "metadata": {},
   "outputs": [
    {
     "data": {
      "text/html": [
       "<div>\n",
       "<style scoped>\n",
       "    .dataframe tbody tr th:only-of-type {\n",
       "        vertical-align: middle;\n",
       "    }\n",
       "\n",
       "    .dataframe tbody tr th {\n",
       "        vertical-align: top;\n",
       "    }\n",
       "\n",
       "    .dataframe thead th {\n",
       "        text-align: right;\n",
       "    }\n",
       "</style>\n",
       "<table border=\"1\" class=\"dataframe\">\n",
       "  <thead>\n",
       "    <tr style=\"text-align: right;\">\n",
       "      <th></th>\n",
       "      <th>SepalLengthCm</th>\n",
       "      <th>SepalWidthCm</th>\n",
       "      <th>PetalLengthCm</th>\n",
       "      <th>PetalWidthCm</th>\n",
       "      <th>Species</th>\n",
       "    </tr>\n",
       "  </thead>\n",
       "  <tbody>\n",
       "    <tr>\n",
       "      <th>0</th>\n",
       "      <td>5.1</td>\n",
       "      <td>3.5</td>\n",
       "      <td>1.4</td>\n",
       "      <td>0.2</td>\n",
       "      <td>0</td>\n",
       "    </tr>\n",
       "    <tr>\n",
       "      <th>1</th>\n",
       "      <td>4.9</td>\n",
       "      <td>3.0</td>\n",
       "      <td>1.4</td>\n",
       "      <td>0.2</td>\n",
       "      <td>0</td>\n",
       "    </tr>\n",
       "    <tr>\n",
       "      <th>2</th>\n",
       "      <td>4.7</td>\n",
       "      <td>3.2</td>\n",
       "      <td>1.3</td>\n",
       "      <td>0.2</td>\n",
       "      <td>0</td>\n",
       "    </tr>\n",
       "    <tr>\n",
       "      <th>3</th>\n",
       "      <td>4.6</td>\n",
       "      <td>3.1</td>\n",
       "      <td>1.5</td>\n",
       "      <td>0.2</td>\n",
       "      <td>0</td>\n",
       "    </tr>\n",
       "    <tr>\n",
       "      <th>4</th>\n",
       "      <td>5.0</td>\n",
       "      <td>3.6</td>\n",
       "      <td>1.4</td>\n",
       "      <td>0.2</td>\n",
       "      <td>0</td>\n",
       "    </tr>\n",
       "    <tr>\n",
       "      <th>...</th>\n",
       "      <td>...</td>\n",
       "      <td>...</td>\n",
       "      <td>...</td>\n",
       "      <td>...</td>\n",
       "      <td>...</td>\n",
       "    </tr>\n",
       "    <tr>\n",
       "      <th>145</th>\n",
       "      <td>6.7</td>\n",
       "      <td>3.0</td>\n",
       "      <td>5.2</td>\n",
       "      <td>2.3</td>\n",
       "      <td>2</td>\n",
       "    </tr>\n",
       "    <tr>\n",
       "      <th>146</th>\n",
       "      <td>6.3</td>\n",
       "      <td>2.5</td>\n",
       "      <td>5.0</td>\n",
       "      <td>1.9</td>\n",
       "      <td>2</td>\n",
       "    </tr>\n",
       "    <tr>\n",
       "      <th>147</th>\n",
       "      <td>6.5</td>\n",
       "      <td>3.0</td>\n",
       "      <td>5.2</td>\n",
       "      <td>2.0</td>\n",
       "      <td>2</td>\n",
       "    </tr>\n",
       "    <tr>\n",
       "      <th>148</th>\n",
       "      <td>6.2</td>\n",
       "      <td>3.4</td>\n",
       "      <td>5.4</td>\n",
       "      <td>2.3</td>\n",
       "      <td>2</td>\n",
       "    </tr>\n",
       "    <tr>\n",
       "      <th>149</th>\n",
       "      <td>5.9</td>\n",
       "      <td>3.0</td>\n",
       "      <td>5.1</td>\n",
       "      <td>1.8</td>\n",
       "      <td>2</td>\n",
       "    </tr>\n",
       "  </tbody>\n",
       "</table>\n",
       "<p>150 rows × 5 columns</p>\n",
       "</div>"
      ],
      "text/plain": [
       "     SepalLengthCm  SepalWidthCm  PetalLengthCm  PetalWidthCm  Species\n",
       "0              5.1           3.5            1.4           0.2        0\n",
       "1              4.9           3.0            1.4           0.2        0\n",
       "2              4.7           3.2            1.3           0.2        0\n",
       "3              4.6           3.1            1.5           0.2        0\n",
       "4              5.0           3.6            1.4           0.2        0\n",
       "..             ...           ...            ...           ...      ...\n",
       "145            6.7           3.0            5.2           2.3        2\n",
       "146            6.3           2.5            5.0           1.9        2\n",
       "147            6.5           3.0            5.2           2.0        2\n",
       "148            6.2           3.4            5.4           2.3        2\n",
       "149            5.9           3.0            5.1           1.8        2\n",
       "\n",
       "[150 rows x 5 columns]"
      ]
     },
     "execution_count": 6,
     "metadata": {},
     "output_type": "execute_result"
    }
   ],
   "source": [
    "iris_df"
   ]
  },
  {
   "cell_type": "markdown",
   "id": "eca9b1f4",
   "metadata": {},
   "source": [
    "#### Exploratory Analysis:"
   ]
  },
  {
   "cell_type": "code",
   "execution_count": 7,
   "id": "dd7a5c2e",
   "metadata": {},
   "outputs": [
    {
     "name": "stdout",
     "output_type": "stream",
     "text": [
      "<class 'pandas.core.frame.DataFrame'>\n",
      "RangeIndex: 150 entries, 0 to 149\n",
      "Data columns (total 5 columns):\n",
      " #   Column         Non-Null Count  Dtype  \n",
      "---  ------         --------------  -----  \n",
      " 0   SepalLengthCm  150 non-null    float64\n",
      " 1   SepalWidthCm   150 non-null    float64\n",
      " 2   PetalLengthCm  150 non-null    float64\n",
      " 3   PetalWidthCm   150 non-null    float64\n",
      " 4   Species        150 non-null    int32  \n",
      "dtypes: float64(4), int32(1)\n",
      "memory usage: 5.4 KB\n"
     ]
    }
   ],
   "source": [
    "iris_df.info()"
   ]
  },
  {
   "cell_type": "code",
   "execution_count": 8,
   "id": "c51041e6",
   "metadata": {},
   "outputs": [
    {
     "data": {
      "text/plain": [
       "array(['setosa', 'versicolor', 'virginica'], dtype='<U10')"
      ]
     },
     "execution_count": 8,
     "metadata": {},
     "output_type": "execute_result"
    }
   ],
   "source": [
    "## to know the types of species\n",
    "\n",
    "iris_raw['target_names']"
   ]
  },
  {
   "cell_type": "markdown",
   "id": "9ee8c2ef",
   "metadata": {},
   "source": [
    "> NOTE: \n",
    " > 1. 0 IS REPRESENTING 'SETOSA'\n",
    " > 2. 1 IS REPREESENTING 'VERSICOLOR'\n",
    " > 3. 2 IS REPRESENTING 'VIRGINICA'"
   ]
  },
  {
   "cell_type": "code",
   "execution_count": 9,
   "id": "7ae4007d",
   "metadata": {},
   "outputs": [
    {
     "data": {
      "text/plain": [
       "<AxesSubplot:>"
      ]
     },
     "execution_count": 9,
     "metadata": {},
     "output_type": "execute_result"
    },
    {
     "data": {
      "image/png": "[encoded data removed]",
      "text/plain": [
       "<Figure size 1080x432 with 2 Axes>"
      ]
     },
     "metadata": {
      "needs_background": "light"
     },
     "output_type": "display_data"
    }
   ],
   "source": [
    "sns.heatmap(iris_df.corr(),annot=True,cmap='BrBG')    ## Plotting correlation matrix."
   ]
  },
  {
   "cell_type": "code",
   "execution_count": 10,
   "id": "1518627e",
   "metadata": {},
   "outputs": [
    {
     "data": {
      "text/plain": [
       "<AxesSubplot:xlabel='SepalLengthCm', ylabel='SepalWidthCm'>"
      ]
     },
     "execution_count": 10,
     "metadata": {},
     "output_type": "execute_result"
    },
    {
     "data": {
      "image/png": "[encoded data removed]",
      "text/plain": [
       "<Figure size 1080x432 with 1 Axes>"
      ]
     },
     "metadata": {
      "needs_background": "light"
     },
     "output_type": "display_data"
    }
   ],
   "source": [
    "sns.scatterplot(x=iris_df.SepalLengthCm, y=iris_df.SepalWidthCm, hue=iris_df.Species,palette='brg')"
   ]
  },
  {
   "cell_type": "markdown",
   "id": "412861e9",
   "metadata": {},
   "source": [
    "> 1. By above plot we can say that SepalLength of SETOSA flowers can't be greater than 6Cm\n",
    "> 2. By observing below plot SETOSA can't have PetalLength of greater than 2Cm"
   ]
  },
  {
   "cell_type": "code",
   "execution_count": 11,
   "id": "f79cb64c",
   "metadata": {},
   "outputs": [
    {
     "data": {
      "text/plain": [
       "<AxesSubplot:xlabel='PetalLengthCm', ylabel='PetalWidthCm'>"
      ]
     },
     "execution_count": 11,
     "metadata": {},
     "output_type": "execute_result"
    },
    {
     "data": {
      "image/png": "[encoded data removed]",
      "text/plain": [
       "<Figure size 1080x432 with 1 Axes>"
      ]
     },
     "metadata": {
      "needs_background": "light"
     },
     "output_type": "display_data"
    }
   ],
   "source": [
    "sns.scatterplot(x=iris_df.PetalLengthCm, y=iris_df.PetalWidthCm, hue=iris_df.Species,palette='brg')"
   ]
  },
  {
   "cell_type": "code",
   "execution_count": 12,
   "id": "5913c878",
   "metadata": {},
   "outputs": [
    {
     "data": {
      "image/png": "[encoded data removed]",
      "text/plain": [
       "<Figure size 1080x432 with 1 Axes>"
      ]
     },
     "metadata": {},
     "output_type": "display_data"
    }
   ],
   "source": [
    "values_count=iris_df['Species'].value_counts().values\n",
    "labels=['SETOSA','VERSICOLOR','VIRGINICA']\n",
    "plt.pie(values_count,labels=labels,autopct='%1.1f%%')\n",
    "plt.show()                                           \n",
    "\n",
    "### Pie Chart Representation of percentage of different types exist in dataset."
   ]
  },
  {
   "cell_type": "markdown",
   "id": "d588e687",
   "metadata": {},
   "source": [
    "> Thus our analyis part is completed and got some insights of the data. Now let's get started with the Model Implementation"
   ]
  },
  {
   "cell_type": "markdown",
   "id": "f96f8449",
   "metadata": {},
   "source": [
    "#### x-y split & Train_test_split of Data"
   ]
  },
  {
   "cell_type": "code",
   "execution_count": 13,
   "id": "1ac05fc2",
   "metadata": {},
   "outputs": [],
   "source": [
    "x=iris_df.drop(['Species'],axis=1)\n",
    "y=iris_df['Species']"
   ]
  },
  {
   "cell_type": "markdown",
   "id": "d2391897",
   "metadata": {},
   "source": [
    "### Model Implementation.\n",
    "Use this link for sklearn documentation :https://scikit-learn.org/stable/modules/classes.html#module-sklearn.model_selection"
   ]
  },
  {
   "cell_type": "code",
   "execution_count": 14,
   "id": "44e3df5d",
   "metadata": {},
   "outputs": [],
   "source": [
    "from sklearn.model_selection import train_test_split\n",
    "from sklearn import tree\n",
    "from sklearn.model_selection import GridSearchCV\n",
    "from sklearn.metrics import accuracy_score\n",
    "import graphviz"
   ]
  },
  {
   "cell_type": "code",
   "execution_count": 15,
   "id": "4640f008",
   "metadata": {},
   "outputs": [],
   "source": [
    "x_train,x_test,y_train,y_test=train_test_split(x,y,test_size=0.2)"
   ]
  },
  {
   "cell_type": "code",
   "execution_count": 16,
   "id": "538d06d7",
   "metadata": {},
   "outputs": [
    {
     "name": "stdout",
     "output_type": "stream",
     "text": [
      "(120, 4) (30, 4) (120,) (30,)\n"
     ]
    }
   ],
   "source": [
    "print(x_train.shape,x_test.shape,y_train.shape,y_test.shape)"
   ]
  },
  {
   "cell_type": "code",
   "execution_count": 17,
   "id": "d428ce7a",
   "metadata": {},
   "outputs": [],
   "source": [
    "dec_tree=tree.DecisionTreeClassifier(splitter='best')"
   ]
  },
  {
   "cell_type": "code",
   "execution_count": 18,
   "id": "ab2200ed",
   "metadata": {},
   "outputs": [
    {
     "data": {
      "text/plain": [
       "DecisionTreeClassifier()"
      ]
     },
     "execution_count": 18,
     "metadata": {},
     "output_type": "execute_result"
    }
   ],
   "source": [
    "dec_tree.fit(x_train,y_train)"
   ]
  },
  {
   "cell_type": "code",
   "execution_count": 19,
   "id": "65f0bca8",
   "metadata": {},
   "outputs": [
    {
     "data": {
      "text/plain": [
       "1.0"
      ]
     },
     "execution_count": 19,
     "metadata": {},
     "output_type": "execute_result"
    }
   ],
   "source": [
    "accuracy_score(y_train,dec_tree.predict(x_train))"
   ]
  },
  {
   "cell_type": "markdown",
   "id": "e323da14",
   "metadata": {},
   "source": [
    "### Prediction by the proposed model."
   ]
  },
  {
   "cell_type": "code",
   "execution_count": 20,
   "id": "2d972b04",
   "metadata": {},
   "outputs": [],
   "source": [
    "y_test_pred=dec_tree.predict(x_test)\n",
    "\n",
    "df_pred=pd.DataFrame({'True':y_test,\n",
    "                     'Predicted':y_test_pred})"
   ]
  },
  {
   "cell_type": "code",
   "execution_count": 21,
   "id": "e08e3cc7",
   "metadata": {},
   "outputs": [
    {
     "data": {
      "text/html": [
       "<div>\n",
       "<style scoped>\n",
       "    .dataframe tbody tr th:only-of-type {\n",
       "        vertical-align: middle;\n",
       "    }\n",
       "\n",
       "    .dataframe tbody tr th {\n",
       "        vertical-align: top;\n",
       "    }\n",
       "\n",
       "    .dataframe thead th {\n",
       "        text-align: right;\n",
       "    }\n",
       "</style>\n",
       "<table border=\"1\" class=\"dataframe\">\n",
       "  <thead>\n",
       "    <tr style=\"text-align: right;\">\n",
       "      <th></th>\n",
       "      <th>True</th>\n",
       "      <th>Predicted</th>\n",
       "    </tr>\n",
       "  </thead>\n",
       "  <tbody>\n",
       "    <tr>\n",
       "      <th>133</th>\n",
       "      <td>2</td>\n",
       "      <td>1</td>\n",
       "    </tr>\n",
       "    <tr>\n",
       "      <th>103</th>\n",
       "      <td>2</td>\n",
       "      <td>2</td>\n",
       "    </tr>\n",
       "    <tr>\n",
       "      <th>42</th>\n",
       "      <td>0</td>\n",
       "      <td>0</td>\n",
       "    </tr>\n",
       "    <tr>\n",
       "      <th>91</th>\n",
       "      <td>1</td>\n",
       "      <td>1</td>\n",
       "    </tr>\n",
       "    <tr>\n",
       "      <th>7</th>\n",
       "      <td>0</td>\n",
       "      <td>0</td>\n",
       "    </tr>\n",
       "    <tr>\n",
       "      <th>118</th>\n",
       "      <td>2</td>\n",
       "      <td>2</td>\n",
       "    </tr>\n",
       "    <tr>\n",
       "      <th>47</th>\n",
       "      <td>0</td>\n",
       "      <td>0</td>\n",
       "    </tr>\n",
       "    <tr>\n",
       "      <th>84</th>\n",
       "      <td>1</td>\n",
       "      <td>1</td>\n",
       "    </tr>\n",
       "    <tr>\n",
       "      <th>24</th>\n",
       "      <td>0</td>\n",
       "      <td>0</td>\n",
       "    </tr>\n",
       "    <tr>\n",
       "      <th>9</th>\n",
       "      <td>0</td>\n",
       "      <td>0</td>\n",
       "    </tr>\n",
       "  </tbody>\n",
       "</table>\n",
       "</div>"
      ],
      "text/plain": [
       "     True  Predicted\n",
       "133     2          1\n",
       "103     2          2\n",
       "42      0          0\n",
       "91      1          1\n",
       "7       0          0\n",
       "118     2          2\n",
       "47      0          0\n",
       "84      1          1\n",
       "24      0          0\n",
       "9       0          0"
      ]
     },
     "execution_count": 21,
     "metadata": {},
     "output_type": "execute_result"
    }
   ],
   "source": [
    "## Data Frame of true and predicted values.\n",
    "df_pred.head(10)"
   ]
  },
  {
   "cell_type": "markdown",
   "id": "ac44aed6",
   "metadata": {},
   "source": [
    "### Accuracy Measurement"
   ]
  },
  {
   "cell_type": "code",
   "execution_count": 22,
   "id": "023a15ee",
   "metadata": {},
   "outputs": [],
   "source": [
    "from sklearn.metrics import accuracy_score,plot_confusion_matrix"
   ]
  },
  {
   "cell_type": "code",
   "execution_count": 23,
   "id": "11ee890a",
   "metadata": {},
   "outputs": [
    {
     "data": {
      "text/plain": [
       "<sklearn.metrics._plot.confusion_matrix.ConfusionMatrixDisplay at 0x28cde25f8b0>"
      ]
     },
     "execution_count": 23,
     "metadata": {},
     "output_type": "execute_result"
    },
    {
     "data": {
      "image/png": "[encoded data removed]",
      "text/plain": [
       "<Figure size 1080x432 with 2 Axes>"
      ]
     },
     "metadata": {
      "needs_background": "light"
     },
     "output_type": "display_data"
    }
   ],
   "source": [
    "plot_confusion_matrix(dec_tree,x_test,y_test,cmap='CMRmap_r')"
   ]
  },
  {
   "cell_type": "code",
   "execution_count": 24,
   "id": "9277f75e",
   "metadata": {},
   "outputs": [
    {
     "name": "stdout",
     "output_type": "stream",
     "text": [
      "The accuracy score of model implemented is 0.9666666666666667\n"
     ]
    }
   ],
   "source": [
    "accuracy=accuracy_score(y_test,y_test_pred)\n",
    "print('The accuracy score of model implemented is {}'.format(accuracy))"
   ]
  },
  {
   "cell_type": "code",
   "execution_count": 25,
   "id": "8181846d",
   "metadata": {},
   "outputs": [
    {
     "data": {
      "text/plain": [
       "{'ccp_alpha': 0.0,\n",
       " 'class_weight': None,\n",
       " 'criterion': 'gini',\n",
       " 'max_depth': None,\n",
       " 'max_features': None,\n",
       " 'max_leaf_nodes': None,\n",
       " 'min_impurity_decrease': 0.0,\n",
       " 'min_impurity_split': None,\n",
       " 'min_samples_leaf': 1,\n",
       " 'min_samples_split': 2,\n",
       " 'min_weight_fraction_leaf': 0.0,\n",
       " 'random_state': None,\n",
       " 'splitter': 'best'}"
      ]
     },
     "execution_count": 25,
     "metadata": {},
     "output_type": "execute_result"
    }
   ],
   "source": [
    "dec_tree.get_params()      ### These are the parameters we have applied by giving the best splitter as hyperparameter"
   ]
  },
  {
   "cell_type": "markdown",
   "id": "0fb6af43",
   "metadata": {},
   "source": [
    "> Thus the test accuracy of the model is 96.66% ."
   ]
  },
  {
   "cell_type": "markdown",
   "id": "b7284ec8",
   "metadata": {},
   "source": [
    "#### Decision Tree Plotting for the model implemented."
   ]
  },
  {
   "cell_type": "code",
   "execution_count": 26,
   "id": "5bc0f081",
   "metadata": {},
   "outputs": [],
   "source": [
    "dot_tree=tree.export_graphviz(dec_tree,out_file=None,feature_names=x_train.columns,filled=True)"
   ]
  },
  {
   "cell_type": "code",
   "execution_count": 27,
   "id": "7de0acf0",
   "metadata": {},
   "outputs": [
    {
     "data": {
      "image/svg+xml": [
       "<?xml version=\"1.0\" encoding=\"UTF-8\" standalone=\"no\"?>\r\n",
       "<!DOCTYPE svg PUBLIC \"-//W3C//DTD SVG 1.1//EN\"\r\n",
       " \"http://www.w3.org/Graphics/SVG/1.1/DTD/svg11.dtd\">\r\n",
       "<!-- Generated by graphviz version 2.38.0 (20140413.2041)\r\n",
       " -->\r\n",
       "<!-- Title: Tree Pages: 1 -->\r\n",
       "<svg width=\"698pt\" height=\"685pt\"\r\n",
       " viewBox=\"0.00 0.00 697.50 685.00\" xmlns=\"http://www.w3.org/2000/svg\" xmlns:xlink=\"http://www.w3.org/1999/xlink\">\r\n",
       "<g id=\"graph0\" class=\"graph\" transform=\"scale(1 1) rotate(0) translate(4 681)\">\r\n",
       "<title>Tree</title>\r\n",
       "<polygon fill=\"white\" stroke=\"none\" points=\"-4,4 -4,-681 693.5,-681 693.5,4 -4,4\"/>\r\n",
       "<!-- 0 -->\r\n",
       "<g id=\"node1\" class=\"node\"><title>0</title>\r\n",
       "<polygon fill=\"#f9f5fe\" stroke=\"black\" points=\"400.5,-677 260.5,-677 260.5,-609 400.5,-609 400.5,-677\"/>\r\n",
       "<text text-anchor=\"middle\" x=\"330.5\" y=\"-661.8\" font-family=\"Times New Roman,serif\" font-size=\"14.00\">PetalWidthCm &lt;= 0.8</text>\r\n",
       "<text text-anchor=\"middle\" x=\"330.5\" y=\"-646.8\" font-family=\"Times New Roman,serif\" font-size=\"14.00\">gini = 0.664</text>\r\n",
       "<text text-anchor=\"middle\" x=\"330.5\" y=\"-631.8\" font-family=\"Times New Roman,serif\" font-size=\"14.00\">samples = 120</text>\r\n",
       "<text text-anchor=\"middle\" x=\"330.5\" y=\"-616.8\" font-family=\"Times New Roman,serif\" font-size=\"14.00\">value = [36, 40, 44]</text>\r\n",
       "</g>\r\n",
       "<!-- 1 -->\r\n",
       "<g id=\"node2\" class=\"node\"><title>1</title>\r\n",
       "<polygon fill=\"#e58139\" stroke=\"black\" points=\"313.5,-565.5 201.5,-565.5 201.5,-512.5 313.5,-512.5 313.5,-565.5\"/>\r\n",
       "<text text-anchor=\"middle\" x=\"257.5\" y=\"-550.3\" font-family=\"Times New Roman,serif\" font-size=\"14.00\">gini = 0.0</text>\r\n",
       "<text text-anchor=\"middle\" x=\"257.5\" y=\"-535.3\" font-family=\"Times New Roman,serif\" font-size=\"14.00\">samples = 36</text>\r\n",
       "<text text-anchor=\"middle\" x=\"257.5\" y=\"-520.3\" font-family=\"Times New Roman,serif\" font-size=\"14.00\">value = [36, 0, 0]</text>\r\n",
       "</g>\r\n",
       "<!-- 0&#45;&gt;1 -->\r\n",
       "<g id=\"edge1\" class=\"edge\"><title>0&#45;&gt;1</title>\r\n",
       "<path fill=\"none\" stroke=\"black\" d=\"M306.799,-608.884C298.771,-597.666 289.796,-585.126 281.727,-573.852\"/>\r\n",
       "<polygon fill=\"black\" stroke=\"black\" points=\"284.43,-571.615 275.764,-565.52 278.738,-575.689 284.43,-571.615\"/>\r\n",
       "<text text-anchor=\"middle\" x=\"271.677\" y=\"-586.484\" font-family=\"Times New Roman,serif\" font-size=\"14.00\">True</text>\r\n",
       "</g>\r\n",
       "<!-- 2 -->\r\n",
       "<g id=\"node3\" class=\"node\"><title>2</title>\r\n",
       "<polygon fill=\"#f4edfd\" stroke=\"black\" points=\"477.5,-573 331.5,-573 331.5,-505 477.5,-505 477.5,-573\"/>\r\n",
       "<text text-anchor=\"middle\" x=\"404.5\" y=\"-557.8\" font-family=\"Times New Roman,serif\" font-size=\"14.00\">PetalWidthCm &lt;= 1.75</text>\r\n",
       "<text text-anchor=\"middle\" x=\"404.5\" y=\"-542.8\" font-family=\"Times New Roman,serif\" font-size=\"14.00\">gini = 0.499</text>\r\n",
       "<text text-anchor=\"middle\" x=\"404.5\" y=\"-527.8\" font-family=\"Times New Roman,serif\" font-size=\"14.00\">samples = 84</text>\r\n",
       "<text text-anchor=\"middle\" x=\"404.5\" y=\"-512.8\" font-family=\"Times New Roman,serif\" font-size=\"14.00\">value = [0, 40, 44]</text>\r\n",
       "</g>\r\n",
       "<!-- 0&#45;&gt;2 -->\r\n",
       "<g id=\"edge2\" class=\"edge\"><title>0&#45;&gt;2</title>\r\n",
       "<path fill=\"none\" stroke=\"black\" d=\"M354.526,-608.884C360.859,-600.154 367.772,-590.625 374.382,-581.514\"/>\r\n",
       "<polygon fill=\"black\" stroke=\"black\" points=\"377.302,-583.449 380.342,-573.299 371.636,-579.338 377.302,-583.449\"/>\r\n",
       "<text text-anchor=\"middle\" x=\"384.27\" y=\"-594.289\" font-family=\"Times New Roman,serif\" font-size=\"14.00\">False</text>\r\n",
       "</g>\r\n",
       "<!-- 3 -->\r\n",
       "<g id=\"node4\" class=\"node\"><title>3</title>\r\n",
       "<polygon fill=\"#4de88e\" stroke=\"black\" points=\"395.5,-469 245.5,-469 245.5,-401 395.5,-401 395.5,-469\"/>\r\n",
       "<text text-anchor=\"middle\" x=\"320.5\" y=\"-453.8\" font-family=\"Times New Roman,serif\" font-size=\"14.00\">PetalLengthCm &lt;= 5.35</text>\r\n",
       "<text text-anchor=\"middle\" x=\"320.5\" y=\"-438.8\" font-family=\"Times New Roman,serif\" font-size=\"14.00\">gini = 0.169</text>\r\n",
       "<text text-anchor=\"middle\" x=\"320.5\" y=\"-423.8\" font-family=\"Times New Roman,serif\" font-size=\"14.00\">samples = 43</text>\r\n",
       "<text text-anchor=\"middle\" x=\"320.5\" y=\"-408.8\" font-family=\"Times New Roman,serif\" font-size=\"14.00\">value = [0, 39, 4]</text>\r\n",
       "</g>\r\n",
       "<!-- 2&#45;&gt;3 -->\r\n",
       "<g id=\"edge3\" class=\"edge\"><title>2&#45;&gt;3</title>\r\n",
       "<path fill=\"none\" stroke=\"black\" d=\"M377.228,-504.884C369.965,-496.065 362.031,-486.43 354.458,-477.235\"/>\r\n",
       "<polygon fill=\"black\" stroke=\"black\" points=\"356.982,-474.794 347.923,-469.299 351.578,-479.244 356.982,-474.794\"/>\r\n",
       "</g>\r\n",
       "<!-- 14 -->\r\n",
       "<g id=\"node15\" class=\"node\"><title>14</title>\r\n",
       "<polygon fill=\"#843ee6\" stroke=\"black\" points=\"563.5,-469 413.5,-469 413.5,-401 563.5,-401 563.5,-469\"/>\r\n",
       "<text text-anchor=\"middle\" x=\"488.5\" y=\"-453.8\" font-family=\"Times New Roman,serif\" font-size=\"14.00\">PetalLengthCm &lt;= 4.85</text>\r\n",
       "<text text-anchor=\"middle\" x=\"488.5\" y=\"-438.8\" font-family=\"Times New Roman,serif\" font-size=\"14.00\">gini = 0.048</text>\r\n",
       "<text text-anchor=\"middle\" x=\"488.5\" y=\"-423.8\" font-family=\"Times New Roman,serif\" font-size=\"14.00\">samples = 41</text>\r\n",
       "<text text-anchor=\"middle\" x=\"488.5\" y=\"-408.8\" font-family=\"Times New Roman,serif\" font-size=\"14.00\">value = [0, 1, 40]</text>\r\n",
       "</g>\r\n",
       "<!-- 2&#45;&gt;14 -->\r\n",
       "<g id=\"edge14\" class=\"edge\"><title>2&#45;&gt;14</title>\r\n",
       "<path fill=\"none\" stroke=\"black\" d=\"M431.772,-504.884C439.035,-496.065 446.969,-486.43 454.542,-477.235\"/>\r\n",
       "<polygon fill=\"black\" stroke=\"black\" points=\"457.422,-479.244 461.077,-469.299 452.018,-474.794 457.422,-479.244\"/>\r\n",
       "</g>\r\n",
       "<!-- 4 -->\r\n",
       "<g id=\"node5\" class=\"node\"><title>4</title>\r\n",
       "<polygon fill=\"#43e687\" stroke=\"black\" points=\"253.5,-365 99.5,-365 99.5,-297 253.5,-297 253.5,-365\"/>\r\n",
       "<text text-anchor=\"middle\" x=\"176.5\" y=\"-349.8\" font-family=\"Times New Roman,serif\" font-size=\"14.00\">SepalLengthCm &lt;= 4.95</text>\r\n",
       "<text text-anchor=\"middle\" x=\"176.5\" y=\"-334.8\" font-family=\"Times New Roman,serif\" font-size=\"14.00\">gini = 0.093</text>\r\n",
       "<text text-anchor=\"middle\" x=\"176.5\" y=\"-319.8\" font-family=\"Times New Roman,serif\" font-size=\"14.00\">samples = 41</text>\r\n",
       "<text text-anchor=\"middle\" x=\"176.5\" y=\"-304.8\" font-family=\"Times New Roman,serif\" font-size=\"14.00\">value = [0, 39, 2]</text>\r\n",
       "</g>\r\n",
       "<!-- 3&#45;&gt;4 -->\r\n",
       "<g id=\"edge4\" class=\"edge\"><title>3&#45;&gt;4</title>\r\n",
       "<path fill=\"none\" stroke=\"black\" d=\"M273.747,-400.884C260.418,-391.442 245.766,-381.064 231.971,-371.292\"/>\r\n",
       "<polygon fill=\"black\" stroke=\"black\" points=\"233.694,-368.223 223.511,-365.299 229.648,-373.936 233.694,-368.223\"/>\r\n",
       "</g>\r\n",
       "<!-- 13 -->\r\n",
       "<g id=\"node14\" class=\"node\"><title>13</title>\r\n",
       "<polygon fill=\"#8139e5\" stroke=\"black\" points=\"377,-357.5 272,-357.5 272,-304.5 377,-304.5 377,-357.5\"/>\r\n",
       "<text text-anchor=\"middle\" x=\"324.5\" y=\"-342.3\" font-family=\"Times New Roman,serif\" font-size=\"14.00\">gini = 0.0</text>\r\n",
       "<text text-anchor=\"middle\" x=\"324.5\" y=\"-327.3\" font-family=\"Times New Roman,serif\" font-size=\"14.00\">samples = 2</text>\r\n",
       "<text text-anchor=\"middle\" x=\"324.5\" y=\"-312.3\" font-family=\"Times New Roman,serif\" font-size=\"14.00\">value = [0, 0, 2]</text>\r\n",
       "</g>\r\n",
       "<!-- 3&#45;&gt;13 -->\r\n",
       "<g id=\"edge13\" class=\"edge\"><title>3&#45;&gt;13</title>\r\n",
       "<path fill=\"none\" stroke=\"black\" d=\"M321.799,-400.884C322.217,-390.216 322.682,-378.352 323.107,-367.519\"/>\r\n",
       "<polygon fill=\"black\" stroke=\"black\" points=\"326.605,-367.649 323.499,-357.52 319.61,-367.375 326.605,-367.649\"/>\r\n",
       "</g>\r\n",
       "<!-- 5 -->\r\n",
       "<g id=\"node6\" class=\"node\"><title>5</title>\r\n",
       "<polygon fill=\"#ffffff\" stroke=\"black\" points=\"239.5,-261 89.5,-261 89.5,-193 239.5,-193 239.5,-261\"/>\r\n",
       "<text text-anchor=\"middle\" x=\"164.5\" y=\"-245.8\" font-family=\"Times New Roman,serif\" font-size=\"14.00\">SepalWidthCm &lt;= 2.45</text>\r\n",
       "<text text-anchor=\"middle\" x=\"164.5\" y=\"-230.8\" font-family=\"Times New Roman,serif\" font-size=\"14.00\">gini = 0.5</text>\r\n",
       "<text text-anchor=\"middle\" x=\"164.5\" y=\"-215.8\" font-family=\"Times New Roman,serif\" font-size=\"14.00\">samples = 2</text>\r\n",
       "<text text-anchor=\"middle\" x=\"164.5\" y=\"-200.8\" font-family=\"Times New Roman,serif\" font-size=\"14.00\">value = [0, 1, 1]</text>\r\n",
       "</g>\r\n",
       "<!-- 4&#45;&gt;5 -->\r\n",
       "<g id=\"edge5\" class=\"edge\"><title>4&#45;&gt;5</title>\r\n",
       "<path fill=\"none\" stroke=\"black\" d=\"M172.604,-296.884C171.65,-288.778 170.616,-279.982 169.614,-271.472\"/>\r\n",
       "<polygon fill=\"black\" stroke=\"black\" points=\"173.062,-270.822 168.418,-261.299 166.11,-271.64 173.062,-270.822\"/>\r\n",
       "</g>\r\n",
       "<!-- 8 -->\r\n",
       "<g id=\"node9\" class=\"node\"><title>8</title>\r\n",
       "<polygon fill=\"#3ee684\" stroke=\"black\" points=\"407.5,-261 257.5,-261 257.5,-193 407.5,-193 407.5,-261\"/>\r\n",
       "<text text-anchor=\"middle\" x=\"332.5\" y=\"-245.8\" font-family=\"Times New Roman,serif\" font-size=\"14.00\">PetalLengthCm &lt;= 4.95</text>\r\n",
       "<text text-anchor=\"middle\" x=\"332.5\" y=\"-230.8\" font-family=\"Times New Roman,serif\" font-size=\"14.00\">gini = 0.05</text>\r\n",
       "<text text-anchor=\"middle\" x=\"332.5\" y=\"-215.8\" font-family=\"Times New Roman,serif\" font-size=\"14.00\">samples = 39</text>\r\n",
       "<text text-anchor=\"middle\" x=\"332.5\" y=\"-200.8\" font-family=\"Times New Roman,serif\" font-size=\"14.00\">value = [0, 38, 1]</text>\r\n",
       "</g>\r\n",
       "<!-- 4&#45;&gt;8 -->\r\n",
       "<g id=\"edge8\" class=\"edge\"><title>4&#45;&gt;8</title>\r\n",
       "<path fill=\"none\" stroke=\"black\" d=\"M227.149,-296.884C241.8,-287.304 257.925,-276.761 273.06,-266.864\"/>\r\n",
       "<polygon fill=\"black\" stroke=\"black\" points=\"275.384,-269.527 281.839,-261.125 271.554,-263.668 275.384,-269.527\"/>\r\n",
       "</g>\r\n",
       "<!-- 6 -->\r\n",
       "<g id=\"node7\" class=\"node\"><title>6</title>\r\n",
       "<polygon fill=\"#39e581\" stroke=\"black\" points=\"105,-149.5 0,-149.5 0,-96.5 105,-96.5 105,-149.5\"/>\r\n",
       "<text text-anchor=\"middle\" x=\"52.5\" y=\"-134.3\" font-family=\"Times New Roman,serif\" font-size=\"14.00\">gini = 0.0</text>\r\n",
       "<text text-anchor=\"middle\" x=\"52.5\" y=\"-119.3\" font-family=\"Times New Roman,serif\" font-size=\"14.00\">samples = 1</text>\r\n",
       "<text text-anchor=\"middle\" x=\"52.5\" y=\"-104.3\" font-family=\"Times New Roman,serif\" font-size=\"14.00\">value = [0, 1, 0]</text>\r\n",
       "</g>\r\n",
       "<!-- 5&#45;&gt;6 -->\r\n",
       "<g id=\"edge6\" class=\"edge\"><title>5&#45;&gt;6</title>\r\n",
       "<path fill=\"none\" stroke=\"black\" d=\"M128.137,-192.884C115.336,-181.226 100.968,-168.141 88.2209,-156.532\"/>\r\n",
       "<polygon fill=\"black\" stroke=\"black\" points=\"90.272,-153.666 80.5219,-149.52 85.5587,-158.841 90.272,-153.666\"/>\r\n",
       "</g>\r\n",
       "<!-- 7 -->\r\n",
       "<g id=\"node8\" class=\"node\"><title>7</title>\r\n",
       "<polygon fill=\"#8139e5\" stroke=\"black\" points=\"228,-149.5 123,-149.5 123,-96.5 228,-96.5 228,-149.5\"/>\r\n",
       "<text text-anchor=\"middle\" x=\"175.5\" y=\"-134.3\" font-family=\"Times New Roman,serif\" font-size=\"14.00\">gini = 0.0</text>\r\n",
       "<text text-anchor=\"middle\" x=\"175.5\" y=\"-119.3\" font-family=\"Times New Roman,serif\" font-size=\"14.00\">samples = 1</text>\r\n",
       "<text text-anchor=\"middle\" x=\"175.5\" y=\"-104.3\" font-family=\"Times New Roman,serif\" font-size=\"14.00\">value = [0, 0, 1]</text>\r\n",
       "</g>\r\n",
       "<!-- 5&#45;&gt;7 -->\r\n",
       "<g id=\"edge7\" class=\"edge\"><title>5&#45;&gt;7</title>\r\n",
       "<path fill=\"none\" stroke=\"black\" d=\"M168.071,-192.884C169.222,-182.216 170.501,-170.352 171.67,-159.519\"/>\r\n",
       "<polygon fill=\"black\" stroke=\"black\" points=\"175.155,-159.838 172.748,-149.52 168.196,-159.087 175.155,-159.838\"/>\r\n",
       "</g>\r\n",
       "<!-- 9 -->\r\n",
       "<g id=\"node10\" class=\"node\"><title>9</title>\r\n",
       "<polygon fill=\"#39e581\" stroke=\"black\" points=\"368.5,-149.5 256.5,-149.5 256.5,-96.5 368.5,-96.5 368.5,-149.5\"/>\r\n",
       "<text text-anchor=\"middle\" x=\"312.5\" y=\"-134.3\" font-family=\"Times New Roman,serif\" font-size=\"14.00\">gini = 0.0</text>\r\n",
       "<text text-anchor=\"middle\" x=\"312.5\" y=\"-119.3\" font-family=\"Times New Roman,serif\" font-size=\"14.00\">samples = 36</text>\r\n",
       "<text text-anchor=\"middle\" x=\"312.5\" y=\"-104.3\" font-family=\"Times New Roman,serif\" font-size=\"14.00\">value = [0, 36, 0]</text>\r\n",
       "</g>\r\n",
       "<!-- 8&#45;&gt;9 -->\r\n",
       "<g id=\"edge9\" class=\"edge\"><title>8&#45;&gt;9</title>\r\n",
       "<path fill=\"none\" stroke=\"black\" d=\"M326.007,-192.884C323.915,-182.216 321.589,-170.352 319.464,-159.519\"/>\r\n",
       "<polygon fill=\"black\" stroke=\"black\" points=\"322.863,-158.66 317.504,-149.52 315.994,-160.007 322.863,-158.66\"/>\r\n",
       "</g>\r\n",
       "<!-- 10 -->\r\n",
       "<g id=\"node11\" class=\"node\"><title>10</title>\r\n",
       "<polygon fill=\"#9cf2c0\" stroke=\"black\" points=\"536.5,-157 386.5,-157 386.5,-89 536.5,-89 536.5,-157\"/>\r\n",
       "<text text-anchor=\"middle\" x=\"461.5\" y=\"-141.8\" font-family=\"Times New Roman,serif\" font-size=\"14.00\">SepalWidthCm &lt;= 2.45</text>\r\n",
       "<text text-anchor=\"middle\" x=\"461.5\" y=\"-126.8\" font-family=\"Times New Roman,serif\" font-size=\"14.00\">gini = 0.444</text>\r\n",
       "<text text-anchor=\"middle\" x=\"461.5\" y=\"-111.8\" font-family=\"Times New Roman,serif\" font-size=\"14.00\">samples = 3</text>\r\n",
       "<text text-anchor=\"middle\" x=\"461.5\" y=\"-96.8\" font-family=\"Times New Roman,serif\" font-size=\"14.00\">value = [0, 2, 1]</text>\r\n",
       "</g>\r\n",
       "<!-- 8&#45;&gt;10 -->\r\n",
       "<g id=\"edge10\" class=\"edge\"><title>8&#45;&gt;10</title>\r\n",
       "<path fill=\"none\" stroke=\"black\" d=\"M374.383,-192.884C386.211,-183.531 399.201,-173.259 411.458,-163.568\"/>\r\n",
       "<polygon fill=\"black\" stroke=\"black\" points=\"413.713,-166.247 419.386,-157.299 409.371,-160.756 413.713,-166.247\"/>\r\n",
       "</g>\r\n",
       "<!-- 11 -->\r\n",
       "<g id=\"node12\" class=\"node\"><title>11</title>\r\n",
       "<polygon fill=\"#8139e5\" stroke=\"black\" points=\"452,-53 347,-53 347,-0 452,-0 452,-53\"/>\r\n",
       "<text text-anchor=\"middle\" x=\"399.5\" y=\"-37.8\" font-family=\"Times New Roman,serif\" font-size=\"14.00\">gini = 0.0</text>\r\n",
       "<text text-anchor=\"middle\" x=\"399.5\" y=\"-22.8\" font-family=\"Times New Roman,serif\" font-size=\"14.00\">samples = 1</text>\r\n",
       "<text text-anchor=\"middle\" x=\"399.5\" y=\"-7.8\" font-family=\"Times New Roman,serif\" font-size=\"14.00\">value = [0, 0, 1]</text>\r\n",
       "</g>\r\n",
       "<!-- 10&#45;&gt;11 -->\r\n",
       "<g id=\"edge11\" class=\"edge\"><title>10&#45;&gt;11</title>\r\n",
       "<path fill=\"none\" stroke=\"black\" d=\"M439.815,-88.9485C434.054,-80.1664 427.819,-70.6629 422.014,-61.815\"/>\r\n",
       "<polygon fill=\"black\" stroke=\"black\" points=\"424.797,-59.6779 416.385,-53.2367 418.945,-63.5178 424.797,-59.6779\"/>\r\n",
       "</g>\r\n",
       "<!-- 12 -->\r\n",
       "<g id=\"node13\" class=\"node\"><title>12</title>\r\n",
       "<polygon fill=\"#39e581\" stroke=\"black\" points=\"575,-53 470,-53 470,-0 575,-0 575,-53\"/>\r\n",
       "<text text-anchor=\"middle\" x=\"522.5\" y=\"-37.8\" font-family=\"Times New Roman,serif\" font-size=\"14.00\">gini = 0.0</text>\r\n",
       "<text text-anchor=\"middle\" x=\"522.5\" y=\"-22.8\" font-family=\"Times New Roman,serif\" font-size=\"14.00\">samples = 2</text>\r\n",
       "<text text-anchor=\"middle\" x=\"522.5\" y=\"-7.8\" font-family=\"Times New Roman,serif\" font-size=\"14.00\">value = [0, 2, 0]</text>\r\n",
       "</g>\r\n",
       "<!-- 10&#45;&gt;12 -->\r\n",
       "<g id=\"edge12\" class=\"edge\"><title>10&#45;&gt;12</title>\r\n",
       "<path fill=\"none\" stroke=\"black\" d=\"M482.835,-88.9485C488.504,-80.1664 494.638,-70.6629 500.35,-61.815\"/>\r\n",
       "<polygon fill=\"black\" stroke=\"black\" points=\"503.404,-63.5365 505.887,-53.2367 497.523,-59.7402 503.404,-63.5365\"/>\r\n",
       "</g>\r\n",
       "<!-- 15 -->\r\n",
       "<g id=\"node16\" class=\"node\"><title>15</title>\r\n",
       "<polygon fill=\"#c09cf2\" stroke=\"black\" points=\"559,-365 416,-365 416,-297 559,-297 559,-365\"/>\r\n",
       "<text text-anchor=\"middle\" x=\"487.5\" y=\"-349.8\" font-family=\"Times New Roman,serif\" font-size=\"14.00\">SepalWidthCm &lt;= 3.1</text>\r\n",
       "<text text-anchor=\"middle\" x=\"487.5\" y=\"-334.8\" font-family=\"Times New Roman,serif\" font-size=\"14.00\">gini = 0.444</text>\r\n",
       "<text text-anchor=\"middle\" x=\"487.5\" y=\"-319.8\" font-family=\"Times New Roman,serif\" font-size=\"14.00\">samples = 3</text>\r\n",
       "<text text-anchor=\"middle\" x=\"487.5\" y=\"-304.8\" font-family=\"Times New Roman,serif\" font-size=\"14.00\">value = [0, 1, 2]</text>\r\n",
       "</g>\r\n",
       "<!-- 14&#45;&gt;15 -->\r\n",
       "<g id=\"edge15\" class=\"edge\"><title>14&#45;&gt;15</title>\r\n",
       "<path fill=\"none\" stroke=\"black\" d=\"M488.175,-400.884C488.096,-392.778 488.01,-383.982 487.926,-375.472\"/>\r\n",
       "<polygon fill=\"black\" stroke=\"black\" points=\"491.424,-375.265 487.826,-365.299 484.425,-375.333 491.424,-375.265\"/>\r\n",
       "</g>\r\n",
       "<!-- 18 -->\r\n",
       "<g id=\"node19\" class=\"node\"><title>18</title>\r\n",
       "<polygon fill=\"#8139e5\" stroke=\"black\" points=\"689.5,-357.5 577.5,-357.5 577.5,-304.5 689.5,-304.5 689.5,-357.5\"/>\r\n",
       "<text text-anchor=\"middle\" x=\"633.5\" y=\"-342.3\" font-family=\"Times New Roman,serif\" font-size=\"14.00\">gini = 0.0</text>\r\n",
       "<text text-anchor=\"middle\" x=\"633.5\" y=\"-327.3\" font-family=\"Times New Roman,serif\" font-size=\"14.00\">samples = 38</text>\r\n",
       "<text text-anchor=\"middle\" x=\"633.5\" y=\"-312.3\" font-family=\"Times New Roman,serif\" font-size=\"14.00\">value = [0, 0, 38]</text>\r\n",
       "</g>\r\n",
       "<!-- 14&#45;&gt;18 -->\r\n",
       "<g id=\"edge18\" class=\"edge\"><title>14&#45;&gt;18</title>\r\n",
       "<path fill=\"none\" stroke=\"black\" d=\"M535.577,-400.884C552.619,-388.896 571.806,-375.399 588.65,-363.549\"/>\r\n",
       "<polygon fill=\"black\" stroke=\"black\" points=\"591.056,-366.136 597.222,-357.52 587.029,-360.411 591.056,-366.136\"/>\r\n",
       "</g>\r\n",
       "<!-- 16 -->\r\n",
       "<g id=\"node17\" class=\"node\"><title>16</title>\r\n",
       "<polygon fill=\"#8139e5\" stroke=\"black\" points=\"537,-253.5 432,-253.5 432,-200.5 537,-200.5 537,-253.5\"/>\r\n",
       "<text text-anchor=\"middle\" x=\"484.5\" y=\"-238.3\" font-family=\"Times New Roman,serif\" font-size=\"14.00\">gini = 0.0</text>\r\n",
       "<text text-anchor=\"middle\" x=\"484.5\" y=\"-223.3\" font-family=\"Times New Roman,serif\" font-size=\"14.00\">samples = 2</text>\r\n",
       "<text text-anchor=\"middle\" x=\"484.5\" y=\"-208.3\" font-family=\"Times New Roman,serif\" font-size=\"14.00\">value = [0, 0, 2]</text>\r\n",
       "</g>\r\n",
       "<!-- 15&#45;&gt;16 -->\r\n",
       "<g id=\"edge16\" class=\"edge\"><title>15&#45;&gt;16</title>\r\n",
       "<path fill=\"none\" stroke=\"black\" d=\"M486.526,-296.884C486.212,-286.216 485.863,-274.352 485.545,-263.519\"/>\r\n",
       "<polygon fill=\"black\" stroke=\"black\" points=\"489.043,-263.413 485.251,-253.52 482.046,-263.619 489.043,-263.413\"/>\r\n",
       "</g>\r\n",
       "<!-- 17 -->\r\n",
       "<g id=\"node18\" class=\"node\"><title>17</title>\r\n",
       "<polygon fill=\"#39e581\" stroke=\"black\" points=\"660,-253.5 555,-253.5 555,-200.5 660,-200.5 660,-253.5\"/>\r\n",
       "<text text-anchor=\"middle\" x=\"607.5\" y=\"-238.3\" font-family=\"Times New Roman,serif\" font-size=\"14.00\">gini = 0.0</text>\r\n",
       "<text text-anchor=\"middle\" x=\"607.5\" y=\"-223.3\" font-family=\"Times New Roman,serif\" font-size=\"14.00\">samples = 1</text>\r\n",
       "<text text-anchor=\"middle\" x=\"607.5\" y=\"-208.3\" font-family=\"Times New Roman,serif\" font-size=\"14.00\">value = [0, 1, 0]</text>\r\n",
       "</g>\r\n",
       "<!-- 15&#45;&gt;17 -->\r\n",
       "<g id=\"edge17\" class=\"edge\"><title>15&#45;&gt;17</title>\r\n",
       "<path fill=\"none\" stroke=\"black\" d=\"M526.461,-296.884C540.305,-285.116 555.86,-271.894 569.614,-260.203\"/>\r\n",
       "<polygon fill=\"black\" stroke=\"black\" points=\"572.124,-262.663 577.477,-253.52 567.59,-257.33 572.124,-262.663\"/>\r\n",
       "</g>\r\n",
       "</g>\r\n",
       "</svg>\r\n"
      ],
      "text/plain": [
       "<graphviz.files.Source at 0x28cded240d0>"
      ]
     },
     "execution_count": 27,
     "metadata": {},
     "output_type": "execute_result"
    }
   ],
   "source": [
    "graphviz.Source(dot_tree)"
   ]
  },
  {
   "cell_type": "markdown",
   "id": "18982f48",
   "metadata": {},
   "source": [
    "#### Note: Gini Index is the measure of purity of the node.\n",
    "> classification in leaf of the decision tree\n",
    "> 1. CLASS 0 i.e; SETOSA class is represented as the brown colored box.\n",
    "> 2. CLASS 1 i.e; VERSICOLOR class is represented as the green colored box.\n",
    "> 3. CLASS 2 i.e; VIRGINICA class is represented as the dark blue colored box."
   ]
  },
  {
   "cell_type": "markdown",
   "id": "6e22bf98",
   "metadata": {},
   "source": [
    "### Thus we have predicted the decision tree of the iris dataset with the accuracy percentage of 96.66% and plotted the decision tree for the same."
   ]
  },
  {
   "cell_type": "code",
   "execution_count": null,
   "id": "8d4bd686",
   "metadata": {},
   "outputs": [],
   "source": []
  }
 ],
 "metadata": {
  "kernelspec": {
   "display_name": "Python 3",
   "language": "python",
   "name": "python3"
  },
  "language_info": {
   "codemirror_mode": {
    "name": "ipython",
    "version": 3
   },
   "file_extension": ".py",
   "mimetype": "text/x-python",
   "name": "python",
   "nbconvert_exporter": "python",
   "pygments_lexer": "ipython3",
   "version": "3.8.5"
  }
 },
 "nbformat": 4,
 "nbformat_minor": 5
}
